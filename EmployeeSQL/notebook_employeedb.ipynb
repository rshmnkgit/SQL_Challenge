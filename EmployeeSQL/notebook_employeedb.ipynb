{
 "cells": [
  {
   "cell_type": "code",
   "execution_count": 1,
   "metadata": {},
   "outputs": [],
   "source": [
    "import pandas as pd\n",
    "import matplotlib.pyplot as plt\n",
    "from sqlalchemy import create_engine"
   ]
  },
  {
   "cell_type": "code",
   "execution_count": 2,
   "metadata": {},
   "outputs": [
    {
     "name": "stdout",
     "output_type": "stream",
     "text": [
      "DB Connection Successful\n"
     ]
    }
   ],
   "source": [
    "from config import username, password\n",
    "\n",
    "try:\n",
    "    ipaddress = \"localhost\"\n",
    "    port = 5432\n",
    "    dbname = \"Employee_db\"\n",
    "    postgres_str = (f'postgresql://{username}:{password}@{ipaddress}:{port}/{dbname}')\n",
    "    engine = create_engine(postgres_str)\n",
    "    conn_str = engine.connect()\n",
    "    print(\"DB Connection Successful\")\n",
    "except:\n",
    "    print(\"PLEASE CHECK YOUR .config FILE. \\nPlease provide your credentials in the config file and try again\")"
   ]
  },
  {
   "cell_type": "markdown",
   "metadata": {},
   "source": [
    "#### Testing the connection with a query statement"
   ]
  },
  {
   "cell_type": "code",
   "execution_count": 3,
   "metadata": {},
   "outputs": [
    {
     "data": {
      "text/html": [
       "<div>\n",
       "<style scoped>\n",
       "    .dataframe tbody tr th:only-of-type {\n",
       "        vertical-align: middle;\n",
       "    }\n",
       "\n",
       "    .dataframe tbody tr th {\n",
       "        vertical-align: top;\n",
       "    }\n",
       "\n",
       "    .dataframe thead th {\n",
       "        text-align: right;\n",
       "    }\n",
       "</style>\n",
       "<table border=\"1\" class=\"dataframe\">\n",
       "  <thead>\n",
       "    <tr style=\"text-align: right;\">\n",
       "      <th></th>\n",
       "      <th>dept_no</th>\n",
       "      <th>dept_name</th>\n",
       "    </tr>\n",
       "  </thead>\n",
       "  <tbody>\n",
       "    <tr>\n",
       "      <th>0</th>\n",
       "      <td>d001</td>\n",
       "      <td>Marketing</td>\n",
       "    </tr>\n",
       "    <tr>\n",
       "      <th>1</th>\n",
       "      <td>d002</td>\n",
       "      <td>Finance</td>\n",
       "    </tr>\n",
       "    <tr>\n",
       "      <th>2</th>\n",
       "      <td>d003</td>\n",
       "      <td>Human Resources</td>\n",
       "    </tr>\n",
       "    <tr>\n",
       "      <th>3</th>\n",
       "      <td>d004</td>\n",
       "      <td>Production</td>\n",
       "    </tr>\n",
       "    <tr>\n",
       "      <th>4</th>\n",
       "      <td>d005</td>\n",
       "      <td>Development</td>\n",
       "    </tr>\n",
       "    <tr>\n",
       "      <th>5</th>\n",
       "      <td>d006</td>\n",
       "      <td>Quality Management</td>\n",
       "    </tr>\n",
       "    <tr>\n",
       "      <th>6</th>\n",
       "      <td>d007</td>\n",
       "      <td>Sales</td>\n",
       "    </tr>\n",
       "    <tr>\n",
       "      <th>7</th>\n",
       "      <td>d008</td>\n",
       "      <td>Research</td>\n",
       "    </tr>\n",
       "    <tr>\n",
       "      <th>8</th>\n",
       "      <td>d009</td>\n",
       "      <td>Customer Service</td>\n",
       "    </tr>\n",
       "  </tbody>\n",
       "</table>\n",
       "</div>"
      ],
      "text/plain": [
       "  dept_no           dept_name\n",
       "0  d001             Marketing\n",
       "1  d002               Finance\n",
       "2  d003       Human Resources\n",
       "3  d004            Production\n",
       "4  d005           Development\n",
       "5  d006    Quality Management\n",
       "6  d007                 Sales\n",
       "7  d008              Research\n",
       "8  d009      Customer Service"
      ]
     },
     "execution_count": 3,
     "metadata": {},
     "output_type": "execute_result"
    }
   ],
   "source": [
    "temp_df = pd.read_sql_query('''select * from departments''', conn_str)\n",
    "temp_df"
   ]
  },
  {
   "cell_type": "markdown",
   "metadata": {},
   "source": [
    "### Histogram of Salary Frequency"
   ]
  },
  {
   "cell_type": "code",
   "execution_count": 4,
   "metadata": {},
   "outputs": [
    {
     "data": {
      "image/png": "[encoded data removed]",
      "text/plain": [
       "<Figure size 1440x864 with 1 Axes>"
      ]
     },
     "metadata": {
      "needs_background": "light"
     },
     "output_type": "display_data"
    }
   ],
   "source": [
    "# Retrieve data from salaries table\n",
    "salary_df = pd.read_sql_query('''select * from salaries''', conn_str)\n",
    "\n",
    "# Get the salaries\n",
    "salary = salary_df[\"salary\"]\n",
    "salary.plot(kind=\"hist\",  figsize=(20,12), grid=True, fontsize=14)\n",
    "plt.title(\"Salary Frequency Histogram\", fontsize=20)\n",
    "plt.ylabel(\"Salary Frequency\", fontsize=16)\n",
    "plt.xlabel(\"Salary\", fontsize=16)\n",
    "plt.savefig(\"plot_histogram.png\")\n",
    "plt.show()"
   ]
  },
  {
   "cell_type": "markdown",
   "metadata": {},
   "source": [
    "### Bar Chart of Salary by Title"
   ]
  },
  {
   "cell_type": "code",
   "execution_count": 5,
   "metadata": {},
   "outputs": [
    {
     "data": {
      "text/html": [
       "<div>\n",
       "<style scoped>\n",
       "    .dataframe tbody tr th:only-of-type {\n",
       "        vertical-align: middle;\n",
       "    }\n",
       "\n",
       "    .dataframe tbody tr th {\n",
       "        vertical-align: top;\n",
       "    }\n",
       "\n",
       "    .dataframe thead th {\n",
       "        text-align: right;\n",
       "    }\n",
       "</style>\n",
       "<table border=\"1\" class=\"dataframe\">\n",
       "  <thead>\n",
       "    <tr style=\"text-align: right;\">\n",
       "      <th></th>\n",
       "      <th>title</th>\n",
       "      <th>salary</th>\n",
       "    </tr>\n",
       "  </thead>\n",
       "  <tbody>\n",
       "    <tr>\n",
       "      <th>0</th>\n",
       "      <td>Senior Staff</td>\n",
       "      <td>58550.172704</td>\n",
       "    </tr>\n",
       "    <tr>\n",
       "      <th>1</th>\n",
       "      <td>Staff</td>\n",
       "      <td>58465.382850</td>\n",
       "    </tr>\n",
       "    <tr>\n",
       "      <th>2</th>\n",
       "      <td>Manager</td>\n",
       "      <td>51531.041667</td>\n",
       "    </tr>\n",
       "    <tr>\n",
       "      <th>3</th>\n",
       "      <td>Technique Leader</td>\n",
       "      <td>48582.896092</td>\n",
       "    </tr>\n",
       "    <tr>\n",
       "      <th>4</th>\n",
       "      <td>Assistant Engineer</td>\n",
       "      <td>48564.434447</td>\n",
       "    </tr>\n",
       "    <tr>\n",
       "      <th>5</th>\n",
       "      <td>Engineer</td>\n",
       "      <td>48535.336511</td>\n",
       "    </tr>\n",
       "    <tr>\n",
       "      <th>6</th>\n",
       "      <td>Senior Engineer</td>\n",
       "      <td>48506.799871</td>\n",
       "    </tr>\n",
       "  </tbody>\n",
       "</table>\n",
       "</div>"
      ],
      "text/plain": [
       "                title        salary\n",
       "0        Senior Staff  58550.172704\n",
       "1               Staff  58465.382850\n",
       "2             Manager  51531.041667\n",
       "3    Technique Leader  48582.896092\n",
       "4  Assistant Engineer  48564.434447\n",
       "5            Engineer  48535.336511\n",
       "6     Senior Engineer  48506.799871"
      ]
     },
     "execution_count": 5,
     "metadata": {},
     "output_type": "execute_result"
    }
   ],
   "source": [
    "# Retrieve the average salary for each title\n",
    "title_salary_df = pd.read_sql_query('''SELECT title_id, title, salary from employees emp, salaries sal, titles ttl \n",
    "                where emp.emp_no = sal.emp_no and emp.emp_title_id = ttl.title_id order by title_id''', conn_str)\n",
    "grpby_title = title_salary_df.groupby('title').mean().sort_values(['salary'], ascending=False).reset_index()\n",
    "grpby_title"
   ]
  },
  {
   "cell_type": "code",
   "execution_count": 12,
   "metadata": {},
   "outputs": [
    {
     "data": {
      "image/png": "[encoded data removed]",
      "text/plain": [
       "<Figure size 864x504 with 1 Axes>"
      ]
     },
     "metadata": {
      "needs_background": "light"
     },
     "output_type": "display_data"
    }
   ],
   "source": [
    "# Define labels and plot the bar chart\n",
    "plt.figure(figsize = (12,7))\n",
    "plt.xlabel(\"Employee Title\", fontsize=14)\n",
    "plt.ylabel(\"Salary\", fontsize=14)\n",
    "plt.title(\"Average Salary by Title\", fontsize=14)\n",
    "plt.bar(grpby_title['title'], grpby_title['salary'], color='g', alpha=.75)\n",
    "plt.xticks(rotation=75, fontsize=12)\n",
    "plt.savefig(\"plot_barchart.png\")\n",
    "plt.show()"
   ]
  },
  {
   "cell_type": "markdown",
   "metadata": {},
   "source": [
    "### Retrieve data for the employee id 499942"
   ]
  },
  {
   "cell_type": "code",
   "execution_count": 8,
   "metadata": {},
   "outputs": [
    {
     "data": {
      "text/html": [
       "<div>\n",
       "<style scoped>\n",
       "    .dataframe tbody tr th:only-of-type {\n",
       "        vertical-align: middle;\n",
       "    }\n",
       "\n",
       "    .dataframe tbody tr th {\n",
       "        vertical-align: top;\n",
       "    }\n",
       "\n",
       "    .dataframe thead th {\n",
       "        text-align: right;\n",
       "    }\n",
       "</style>\n",
       "<table border=\"1\" class=\"dataframe\">\n",
       "  <thead>\n",
       "    <tr style=\"text-align: right;\">\n",
       "      <th></th>\n",
       "      <th>ID</th>\n",
       "      <th>First Name</th>\n",
       "      <th>Last Name</th>\n",
       "      <th>Gender</th>\n",
       "      <th>Birthday</th>\n",
       "      <th>Designation</th>\n",
       "      <th>Department</th>\n",
       "      <th>Salary</th>\n",
       "    </tr>\n",
       "  </thead>\n",
       "  <tbody>\n",
       "    <tr>\n",
       "      <th>0</th>\n",
       "      <td>499942</td>\n",
       "      <td>April</td>\n",
       "      <td>Foolsday</td>\n",
       "      <td>F</td>\n",
       "      <td>1963-01-10</td>\n",
       "      <td>Technique Leader</td>\n",
       "      <td>Development</td>\n",
       "      <td>40000.0</td>\n",
       "    </tr>\n",
       "  </tbody>\n",
       "</table>\n",
       "</div>"
      ],
      "text/plain": [
       "       ID First Name Last Name      Gender    Birthday       Designation  \\\n",
       "0  499942      April  Foolsday  F           1963-01-10  Technique Leader   \n",
       "\n",
       "    Department   Salary  \n",
       "0  Development  40000.0  "
      ]
     },
     "execution_count": 8,
     "metadata": {},
     "output_type": "execute_result"
    }
   ],
   "source": [
    "# Search the Employee ID Numbr '499942'\n",
    "\n",
    "query_stmt = 'select emp.emp_no as \"ID\", first_name as \"First Name\", last_name as \"Last Name\", sex as \"Gender\", birth_date as \"Birthday\", '\n",
    "query_stmt = query_stmt + 'title as \"Designation\", dept_name as \"Department\", salary as \"Salary\" from employees emp '\n",
    "query_stmt = query_stmt + 'INNER JOIN  salaries sal ON emp.emp_no = sal.emp_no and sal.emp_no = 499942 '\n",
    "query_stmt = query_stmt + 'INNER JOIN titles ttl ON emp.emp_title_id = ttl.title_id '\n",
    "query_stmt = query_stmt + 'INNER JOIN dept_emp dptemp ON emp.emp_no = dptemp.emp_no '\n",
    "query_stmt = query_stmt + 'INNER JOIN departments dept ON dptemp.dept_no= dept.dept_no'\n",
    "\n",
    "get_emp_info = pd.read_sql_query(query_stmt, conn_str)\n",
    "get_emp_info"
   ]
  },
  {
   "cell_type": "code",
   "execution_count": null,
   "metadata": {},
   "outputs": [],
   "source": []
  },
  {
   "cell_type": "code",
   "execution_count": null,
   "metadata": {},
   "outputs": [],
   "source": []
  }
 ],
 "metadata": {
  "kernelspec": {
   "display_name": "Python 3",
   "language": "python",
   "name": "python3"
  },
  "language_info": {
   "codemirror_mode": {
    "name": "ipython",
    "version": 3
   },
   "file_extension": ".py",
   "mimetype": "text/x-python",
   "name": "python",
   "nbconvert_exporter": "python",
   "pygments_lexer": "ipython3",
   "version": "3.6.10"
  }
 },
 "nbformat": 4,
 "nbformat_minor": 4
}
