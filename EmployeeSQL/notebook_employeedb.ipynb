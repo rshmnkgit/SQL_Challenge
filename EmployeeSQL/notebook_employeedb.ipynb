{
 "cells": [
  {
   "cell_type": "code",
   "execution_count": 1,
   "metadata": {},
   "outputs": [],
   "source": [
    "import pandas as pd\n",
    "import matplotlib.pyplot as plt\n",
    "from sqlalchemy import create_engine"
   ]
  },
  {
   "cell_type": "code",
   "execution_count": 2,
   "metadata": {},
   "outputs": [
    {
     "name": "stdout",
     "output_type": "stream",
     "text": [
      "DB Connection Successful\n"
     ]
    }
   ],
   "source": [
    "from config import username, password\n",
    "from config import port, dbname\n",
    "\n",
    "try:\n",
    "    ipaddress = \"localhost\"\n",
    "    postgres_str = (f'postgresql://{username}:{password}@{ipaddress}:{port}/{dbname}')\n",
    "    engine = create_engine(postgres_str)\n",
    "    conn_str = engine.connect()\n",
    "    print(\"DB Connection Successful\")\n",
    "except:\n",
    "    print(\"PLEASE CHECK YOUR .config FILE. \\nPlease provide your credentials in the config file and try again\")"
   ]
  },
  {
   "cell_type": "markdown",
   "metadata": {},
   "source": [
    "#### Testing the connection with a query statement"
   ]
  },
  {
   "cell_type": "code",
   "execution_count": 3,
   "metadata": {},
   "outputs": [
    {
     "data": {
      "text/html": [
       "<div>\n",
       "<style scoped>\n",
       "    .dataframe tbody tr th:only-of-type {\n",
       "        vertical-align: middle;\n",
       "    }\n",
       "\n",
       "    .dataframe tbody tr th {\n",
       "        vertical-align: top;\n",
       "    }\n",
       "\n",
       "    .dataframe thead th {\n",
       "        text-align: right;\n",
       "    }\n",
       "</style>\n",
       "<table border=\"1\" class=\"dataframe\">\n",
       "  <thead>\n",
       "    <tr style=\"text-align: right;\">\n",
       "      <th></th>\n",
       "      <th>emp_no</th>\n",
       "      <th>first_name</th>\n",
       "      <th>last_name</th>\n",
       "      <th>salary</th>\n",
       "    </tr>\n",
       "  </thead>\n",
       "  <tbody>\n",
       "    <tr>\n",
       "      <th>0</th>\n",
       "      <td>10001</td>\n",
       "      <td>Georgi</td>\n",
       "      <td>Facello</td>\n",
       "      <td>60117.0</td>\n",
       "    </tr>\n",
       "    <tr>\n",
       "      <th>1</th>\n",
       "      <td>10002</td>\n",
       "      <td>Bezalel</td>\n",
       "      <td>Simmel</td>\n",
       "      <td>65828.0</td>\n",
       "    </tr>\n",
       "    <tr>\n",
       "      <th>2</th>\n",
       "      <td>10003</td>\n",
       "      <td>Parto</td>\n",
       "      <td>Bamford</td>\n",
       "      <td>40006.0</td>\n",
       "    </tr>\n",
       "    <tr>\n",
       "      <th>3</th>\n",
       "      <td>10004</td>\n",
       "      <td>Chirstian</td>\n",
       "      <td>Koblick</td>\n",
       "      <td>40054.0</td>\n",
       "    </tr>\n",
       "    <tr>\n",
       "      <th>4</th>\n",
       "      <td>10005</td>\n",
       "      <td>Kyoichi</td>\n",
       "      <td>Maliniak</td>\n",
       "      <td>78228.0</td>\n",
       "    </tr>\n",
       "    <tr>\n",
       "      <th>...</th>\n",
       "      <td>...</td>\n",
       "      <td>...</td>\n",
       "      <td>...</td>\n",
       "      <td>...</td>\n",
       "    </tr>\n",
       "    <tr>\n",
       "      <th>300019</th>\n",
       "      <td>499995</td>\n",
       "      <td>Dekang</td>\n",
       "      <td>Lichtner</td>\n",
       "      <td>40000.0</td>\n",
       "    </tr>\n",
       "    <tr>\n",
       "      <th>300020</th>\n",
       "      <td>499996</td>\n",
       "      <td>Zito</td>\n",
       "      <td>Baaz</td>\n",
       "      <td>58058.0</td>\n",
       "    </tr>\n",
       "    <tr>\n",
       "      <th>300021</th>\n",
       "      <td>499997</td>\n",
       "      <td>Berhard</td>\n",
       "      <td>Lenart</td>\n",
       "      <td>49597.0</td>\n",
       "    </tr>\n",
       "    <tr>\n",
       "      <th>300022</th>\n",
       "      <td>499998</td>\n",
       "      <td>Patricia</td>\n",
       "      <td>Breugel</td>\n",
       "      <td>40000.0</td>\n",
       "    </tr>\n",
       "    <tr>\n",
       "      <th>300023</th>\n",
       "      <td>499999</td>\n",
       "      <td>Sachin</td>\n",
       "      <td>Tsukuda</td>\n",
       "      <td>63707.0</td>\n",
       "    </tr>\n",
       "  </tbody>\n",
       "</table>\n",
       "<p>300024 rows × 4 columns</p>\n",
       "</div>"
      ],
      "text/plain": [
       "        emp_no first_name last_name   salary\n",
       "0        10001     Georgi   Facello  60117.0\n",
       "1        10002    Bezalel    Simmel  65828.0\n",
       "2        10003      Parto   Bamford  40006.0\n",
       "3        10004  Chirstian   Koblick  40054.0\n",
       "4        10005    Kyoichi  Maliniak  78228.0\n",
       "...        ...        ...       ...      ...\n",
       "300019  499995     Dekang  Lichtner  40000.0\n",
       "300020  499996       Zito      Baaz  58058.0\n",
       "300021  499997    Berhard    Lenart  49597.0\n",
       "300022  499998   Patricia   Breugel  40000.0\n",
       "300023  499999     Sachin   Tsukuda  63707.0\n",
       "\n",
       "[300024 rows x 4 columns]"
      ]
     },
     "execution_count": 3,
     "metadata": {},
     "output_type": "execute_result"
    }
   ],
   "source": [
    "# temp_df = pd.read_sql_query('''select * from departments''', conn_str)\n",
    "temp_df = pd.read_sql_query('''select emp.emp_no, first_name, last_name, salary \n",
    "                        from employees emp inner join salaries sal on emp.emp_no = sal.emp_no order by emp.emp_no''', conn_str)\n",
    "temp_df\n"
   ]
  },
  {
   "cell_type": "markdown",
   "metadata": {},
   "source": [
    "### Histogram of Salary Frequency"
   ]
  },
  {
   "cell_type": "code",
   "execution_count": 4,
   "metadata": {},
   "outputs": [
    {
     "name": "stdout",
     "output_type": "stream",
     "text": [
      "Mean Salary : 52971.0\n",
      "Salary Median : 48681.0\n",
      "Standard Deviation in Salary : 14301.0\n"
     ]
    },
    {
     "data": {
      "image/png": "[encoded data removed]",
      "text/plain": [
       "<Figure size 1440x864 with 1 Axes>"
      ]
     },
     "metadata": {
      "needs_background": "light"
     },
     "output_type": "display_data"
    }
   ],
   "source": [
    "# Retrieve data from salaries table\n",
    "salary_df = pd.read_sql_query('''select * from salaries''', conn_str)\n",
    "\n",
    "# Replace any null values, if exist, for salary as zero.\n",
    "salary_df[\"salary\"].fillna(0, inplace=True)\n",
    "\n",
    "print(f\"Mean Salary : {round(salary_df['salary'].mean(),0)}\")\n",
    "print(f\"Salary Median : {round(salary_df['salary'].median(),0)}\")\n",
    "print(f\"Standard Deviation in Salary : {round(salary_df['salary'].std(),0)}\")\n",
    "\n",
    "# Get the salaries\n",
    "salary = salary_df[\"salary\"]\n",
    "salary.plot(kind=\"hist\",  figsize=(20,12), grid=True, fontsize=14)\n",
    "plt.title(\"Salary Frequency Histogram\", fontsize=20)\n",
    "plt.ylabel(\"Salary Frequency\", fontsize=16)\n",
    "plt.xlabel(\"Salary\", fontsize=16)\n",
    "plt.savefig(\"plot_histogram.png\")\n",
    "plt.show()"
   ]
  },
  {
   "cell_type": "markdown",
   "metadata": {},
   "source": [
    "### Bar Chart of Salary by Title"
   ]
  },
  {
   "cell_type": "code",
   "execution_count": 5,
   "metadata": {},
   "outputs": [
    {
     "data": {
      "text/html": [
       "<div>\n",
       "<style scoped>\n",
       "    .dataframe tbody tr th:only-of-type {\n",
       "        vertical-align: middle;\n",
       "    }\n",
       "\n",
       "    .dataframe tbody tr th {\n",
       "        vertical-align: top;\n",
       "    }\n",
       "\n",
       "    .dataframe thead th {\n",
       "        text-align: right;\n",
       "    }\n",
       "</style>\n",
       "<table border=\"1\" class=\"dataframe\">\n",
       "  <thead>\n",
       "    <tr style=\"text-align: right;\">\n",
       "      <th></th>\n",
       "      <th>title</th>\n",
       "      <th>salary</th>\n",
       "    </tr>\n",
       "  </thead>\n",
       "  <tbody>\n",
       "    <tr>\n",
       "      <th>0</th>\n",
       "      <td>Senior Staff</td>\n",
       "      <td>58550.172704</td>\n",
       "    </tr>\n",
       "    <tr>\n",
       "      <th>1</th>\n",
       "      <td>Staff</td>\n",
       "      <td>58465.382850</td>\n",
       "    </tr>\n",
       "    <tr>\n",
       "      <th>2</th>\n",
       "      <td>Manager</td>\n",
       "      <td>51531.041667</td>\n",
       "    </tr>\n",
       "    <tr>\n",
       "      <th>3</th>\n",
       "      <td>Technique Leader</td>\n",
       "      <td>48582.896092</td>\n",
       "    </tr>\n",
       "    <tr>\n",
       "      <th>4</th>\n",
       "      <td>Assistant Engineer</td>\n",
       "      <td>48564.434447</td>\n",
       "    </tr>\n",
       "    <tr>\n",
       "      <th>5</th>\n",
       "      <td>Engineer</td>\n",
       "      <td>48535.336511</td>\n",
       "    </tr>\n",
       "    <tr>\n",
       "      <th>6</th>\n",
       "      <td>Senior Engineer</td>\n",
       "      <td>48506.799871</td>\n",
       "    </tr>\n",
       "  </tbody>\n",
       "</table>\n",
       "</div>"
      ],
      "text/plain": [
       "                title        salary\n",
       "0        Senior Staff  58550.172704\n",
       "1               Staff  58465.382850\n",
       "2             Manager  51531.041667\n",
       "3    Technique Leader  48582.896092\n",
       "4  Assistant Engineer  48564.434447\n",
       "5            Engineer  48535.336511\n",
       "6     Senior Engineer  48506.799871"
      ]
     },
     "execution_count": 5,
     "metadata": {},
     "output_type": "execute_result"
    }
   ],
   "source": [
    "# Retrieve the average salary for each title\n",
    "title_salary_df = pd.read_sql_query('''SELECT title_id, title, salary from employees emp, salaries sal, titles ttl \n",
    "                where emp.emp_no = sal.emp_no and emp.emp_title_id = ttl.title_id order by title_id''', conn_str)\n",
    "\n",
    "# Replace any null values, if exist, for salary as zero.\n",
    "title_salary_df[\"salary\"].fillna(0, inplace=True)\n",
    "\n",
    "grpby_title = title_salary_df.groupby('title').mean().sort_values(['salary'], ascending=False).reset_index()\n",
    "grpby_title"
   ]
  },
  {
   "cell_type": "code",
   "execution_count": 6,
   "metadata": {},
   "outputs": [
    {
     "data": {
      "image/png": "[encoded data removed]",
      "text/plain": [
       "<Figure size 864x504 with 1 Axes>"
      ]
     },
     "metadata": {
      "needs_background": "light"
     },
     "output_type": "display_data"
    }
   ],
   "source": [
    "# Define labels and plot the bar chart\n",
    "plt.figure(figsize = (12,7))\n",
    "plt.xlabel(\"Employee Title\", fontsize=14)\n",
    "plt.ylabel(\"Salary\", fontsize=14)\n",
    "plt.title(\"Average Salary by Title\", fontsize=14)\n",
    "plt.bar(grpby_title['title'], grpby_title['salary'], color='g', alpha=.75)\n",
    "plt.xticks(rotation=75, fontsize=12)\n",
    "plt.savefig(\"plot_barchart.png\")\n",
    "plt.grid(True)\n",
    "plt.show()"
   ]
  },
  {
   "cell_type": "markdown",
   "metadata": {},
   "source": [
    "### Retrieve data for the employee id 499942"
   ]
  },
  {
   "cell_type": "code",
   "execution_count": 7,
   "metadata": {},
   "outputs": [
    {
     "data": {
      "text/html": [
       "<div>\n",
       "<style scoped>\n",
       "    .dataframe tbody tr th:only-of-type {\n",
       "        vertical-align: middle;\n",
       "    }\n",
       "\n",
       "    .dataframe tbody tr th {\n",
       "        vertical-align: top;\n",
       "    }\n",
       "\n",
       "    .dataframe thead th {\n",
       "        text-align: right;\n",
       "    }\n",
       "</style>\n",
       "<table border=\"1\" class=\"dataframe\">\n",
       "  <thead>\n",
       "    <tr style=\"text-align: right;\">\n",
       "      <th></th>\n",
       "      <th>ID</th>\n",
       "      <th>First Name</th>\n",
       "      <th>Last Name</th>\n",
       "      <th>Gender</th>\n",
       "      <th>Birthday</th>\n",
       "      <th>Designation</th>\n",
       "      <th>Department</th>\n",
       "      <th>Salary</th>\n",
       "    </tr>\n",
       "  </thead>\n",
       "  <tbody>\n",
       "    <tr>\n",
       "      <th>0</th>\n",
       "      <td>499942</td>\n",
       "      <td>April</td>\n",
       "      <td>Foolsday</td>\n",
       "      <td>F</td>\n",
       "      <td>1963-01-10</td>\n",
       "      <td>Technique Leader</td>\n",
       "      <td>Development</td>\n",
       "      <td>40000.0</td>\n",
       "    </tr>\n",
       "  </tbody>\n",
       "</table>\n",
       "</div>"
      ],
      "text/plain": [
       "       ID First Name Last Name      Gender    Birthday       Designation  \\\n",
       "0  499942      April  Foolsday  F           1963-01-10  Technique Leader   \n",
       "\n",
       "    Department   Salary  \n",
       "0  Development  40000.0  "
      ]
     },
     "execution_count": 7,
     "metadata": {},
     "output_type": "execute_result"
    }
   ],
   "source": [
    "# Search the Employee ID Numbr '499942'\n",
    "\n",
    "query_stmt = 'select emp.emp_no as \"ID\", first_name as \"First Name\", last_name as \"Last Name\", sex as \"Gender\", birth_date as \"Birthday\", '\n",
    "query_stmt = query_stmt + 'title as \"Designation\", dept_name as \"Department\", salary as \"Salary\" from employees emp '\n",
    "query_stmt = query_stmt + 'INNER JOIN  salaries sal ON emp.emp_no = sal.emp_no and sal.emp_no = 499942 '\n",
    "query_stmt = query_stmt + 'INNER JOIN titles ttl ON emp.emp_title_id = ttl.title_id '\n",
    "query_stmt = query_stmt + 'INNER JOIN dept_emp dptemp ON emp.emp_no = dptemp.emp_no '\n",
    "query_stmt = query_stmt + 'INNER JOIN departments dept ON dptemp.dept_no= dept.dept_no'\n",
    "\n",
    "get_emp_info = pd.read_sql_query(query_stmt, conn_str)\n",
    "get_emp_info"
   ]
  },
  {
   "cell_type": "code",
   "execution_count": null,
   "metadata": {},
   "outputs": [],
   "source": []
  },
  {
   "cell_type": "code",
   "execution_count": null,
   "metadata": {},
   "outputs": [],
   "source": []
  }
 ],
 "metadata": {
  "kernelspec": {
   "display_name": "Python 3",
   "language": "python",
   "name": "python3"
  },
  "language_info": {
   "codemirror_mode": {
    "name": "ipython",
    "version": 3
   },
   "file_extension": ".py",
   "mimetype": "text/x-python",
   "name": "python",
   "nbconvert_exporter": "python",
   "pygments_lexer": "ipython3",
   "version": "3.6.10"
  }
 },
 "nbformat": 4,
 "nbformat_minor": 4
}
